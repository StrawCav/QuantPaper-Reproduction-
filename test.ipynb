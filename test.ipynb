{
 "cells": [
  {
   "cell_type": "code",
   "execution_count": 3,
   "id": "fc2092d5",
   "metadata": {},
   "outputs": [
    {
     "name": "stdout",
     "output_type": "stream",
     "text": [
      "Collecting akshare\n",
      "  Downloading akshare-1.17.31-py3-none-any.whl.metadata (11 kB)\n",
      "Collecting aiohttp>=3.11.13 (from akshare)\n",
      "  Downloading aiohttp-3.12.15-cp313-cp313-win_amd64.whl.metadata (7.9 kB)\n",
      "Requirement already satisfied: beautifulsoup4>=4.9.1 in d:\\anaconda\\lib\\site-packages (from akshare) (4.12.3)\n",
      "Requirement already satisfied: lxml>=4.2.1 in d:\\anaconda\\lib\\site-packages (from akshare) (5.3.0)\n",
      "Requirement already satisfied: pandas>=0.25 in d:\\anaconda\\lib\\site-packages (from akshare) (2.2.3)\n",
      "Requirement already satisfied: requests>=2.22.0 in d:\\anaconda\\lib\\site-packages (from akshare) (2.32.3)\n",
      "Collecting html5lib>=1.0.1 (from akshare)\n",
      "  Downloading html5lib-1.1-py2.py3-none-any.whl.metadata (16 kB)\n",
      "Collecting xlrd>=1.2.0 (from akshare)\n",
      "  Downloading xlrd-2.0.2-py2.py3-none-any.whl.metadata (3.5 kB)\n",
      "Requirement already satisfied: urllib3>=1.25.8 in d:\\anaconda\\lib\\site-packages (from akshare) (2.3.0)\n",
      "Requirement already satisfied: tqdm>=4.43.0 in d:\\anaconda\\lib\\site-packages (from akshare) (4.67.1)\n",
      "Requirement already satisfied: openpyxl>=3.0.3 in d:\\anaconda\\lib\\site-packages (from akshare) (3.1.5)\n",
      "Collecting jsonpath>=0.82 (from akshare)\n",
      "  Downloading jsonpath-0.82.2.tar.gz (10 kB)\n",
      "  Preparing metadata (setup.py): started\n",
      "  Preparing metadata (setup.py): finished with status 'done'\n",
      "Requirement already satisfied: tabulate>=0.8.6 in d:\\anaconda\\lib\\site-packages (from akshare) (0.9.0)\n",
      "Requirement already satisfied: decorator>=4.4.2 in d:\\anaconda\\lib\\site-packages (from akshare) (5.1.1)\n",
      "Requirement already satisfied: nest_asyncio>=1.6.0 in d:\\anaconda\\lib\\site-packages (from akshare) (1.6.0)\n",
      "Collecting mini-racer>=0.12.4 (from akshare)\n",
      "  Downloading mini_racer-0.12.4-py3-none-win_amd64.whl.metadata (18 kB)\n",
      "Collecting aiohappyeyeballs>=2.5.0 (from aiohttp>=3.11.13->akshare)\n",
      "  Downloading aiohappyeyeballs-2.6.1-py3-none-any.whl.metadata (5.9 kB)\n",
      "Collecting aiosignal>=1.4.0 (from aiohttp>=3.11.13->akshare)\n",
      "  Downloading aiosignal-1.4.0-py3-none-any.whl.metadata (3.7 kB)\n",
      "Requirement already satisfied: attrs>=17.3.0 in d:\\anaconda\\lib\\site-packages (from aiohttp>=3.11.13->akshare) (24.3.0)\n",
      "Requirement already satisfied: frozenlist>=1.1.1 in d:\\anaconda\\lib\\site-packages (from aiohttp>=3.11.13->akshare) (1.5.0)\n",
      "Requirement already satisfied: multidict<7.0,>=4.5 in d:\\anaconda\\lib\\site-packages (from aiohttp>=3.11.13->akshare) (6.1.0)\n",
      "Requirement already satisfied: propcache>=0.2.0 in d:\\anaconda\\lib\\site-packages (from aiohttp>=3.11.13->akshare) (0.3.1)\n",
      "Requirement already satisfied: yarl<2.0,>=1.17.0 in d:\\anaconda\\lib\\site-packages (from aiohttp>=3.11.13->akshare) (1.18.0)\n",
      "Requirement already satisfied: idna>=2.0 in d:\\anaconda\\lib\\site-packages (from yarl<2.0,>=1.17.0->aiohttp>=3.11.13->akshare) (3.7)\n",
      "Requirement already satisfied: soupsieve>1.2 in d:\\anaconda\\lib\\site-packages (from beautifulsoup4>=4.9.1->akshare) (2.5)\n",
      "Requirement already satisfied: six>=1.9 in d:\\anaconda\\lib\\site-packages (from html5lib>=1.0.1->akshare) (1.17.0)\n",
      "Requirement already satisfied: webencodings in d:\\anaconda\\lib\\site-packages (from html5lib>=1.0.1->akshare) (0.5.1)\n",
      "Requirement already satisfied: et-xmlfile in d:\\anaconda\\lib\\site-packages (from openpyxl>=3.0.3->akshare) (1.1.0)\n",
      "Requirement already satisfied: numpy>=1.26.0 in d:\\anaconda\\lib\\site-packages (from pandas>=0.25->akshare) (2.1.3)\n",
      "Requirement already satisfied: python-dateutil>=2.8.2 in d:\\anaconda\\lib\\site-packages (from pandas>=0.25->akshare) (2.9.0.post0)\n",
      "Requirement already satisfied: pytz>=2020.1 in d:\\anaconda\\lib\\site-packages (from pandas>=0.25->akshare) (2024.1)\n",
      "Requirement already satisfied: tzdata>=2022.7 in d:\\anaconda\\lib\\site-packages (from pandas>=0.25->akshare) (2025.2)\n",
      "Requirement already satisfied: charset-normalizer<4,>=2 in d:\\anaconda\\lib\\site-packages (from requests>=2.22.0->akshare) (3.3.2)\n",
      "Requirement already satisfied: certifi>=2017.4.17 in d:\\anaconda\\lib\\site-packages (from requests>=2.22.0->akshare) (2025.4.26)\n",
      "Requirement already satisfied: colorama in d:\\anaconda\\lib\\site-packages (from tqdm>=4.43.0->akshare) (0.4.6)\n",
      "Downloading akshare-1.17.31-py3-none-any.whl (1.1 MB)\n",
      "   ---------------------------------------- 0.0/1.1 MB ? eta -:--:--\n",
      "   ---------------------------------------- 0.0/1.1 MB ? eta -:--:--\n",
      "   ---------------------------------------- 0.0/1.1 MB ? eta -:--:--\n",
      "   --------- ------------------------------ 0.3/1.1 MB ? eta -:--:--\n",
      "   ------------------- -------------------- 0.5/1.1 MB 1.5 MB/s eta 0:00:01\n",
      "   ---------------------------------------- 1.1/1.1 MB 2.4 MB/s eta 0:00:00\n",
      "Downloading aiohttp-3.12.15-cp313-cp313-win_amd64.whl (449 kB)\n",
      "Downloading aiohappyeyeballs-2.6.1-py3-none-any.whl (15 kB)\n",
      "Downloading aiosignal-1.4.0-py3-none-any.whl (7.5 kB)\n",
      "Downloading html5lib-1.1-py2.py3-none-any.whl (112 kB)\n",
      "Downloading mini_racer-0.12.4-py3-none-win_amd64.whl (13.7 MB)\n",
      "   ---------------------------------------- 0.0/13.7 MB ? eta -:--:--\n",
      "   --- ------------------------------------ 1.0/13.7 MB 5.2 MB/s eta 0:00:03\n",
      "   ------ --------------------------------- 2.1/13.7 MB 5.7 MB/s eta 0:00:03\n",
      "   --------- ------------------------------ 3.1/13.7 MB 5.8 MB/s eta 0:00:02\n",
      "   ------------- -------------------------- 4.5/13.7 MB 5.8 MB/s eta 0:00:02\n",
      "   ---------------- ----------------------- 5.8/13.7 MB 6.0 MB/s eta 0:00:02\n",
      "   -------------------- ------------------- 7.1/13.7 MB 6.0 MB/s eta 0:00:02\n",
      "   ------------------------- -------------- 8.7/13.7 MB 6.0 MB/s eta 0:00:01\n",
      "   ----------------------------- ---------- 10.2/13.7 MB 6.2 MB/s eta 0:00:01\n",
      "   ---------------------------------- ----- 11.8/13.7 MB 6.5 MB/s eta 0:00:01\n",
      "   ---------------------------------------  13.4/13.7 MB 6.6 MB/s eta 0:00:01\n",
      "   ---------------------------------------- 13.7/13.7 MB 6.5 MB/s eta 0:00:00\n",
      "Downloading xlrd-2.0.2-py2.py3-none-any.whl (96 kB)\n",
      "Building wheels for collected packages: jsonpath\n",
      "  Building wheel for jsonpath (setup.py): started\n",
      "  Building wheel for jsonpath (setup.py): finished with status 'done'\n",
      "  Created wheel for jsonpath: filename=jsonpath-0.82.2-py3-none-any.whl size=5628 sha256=4f007bd6b75286cfc0e70b0bcf8195298a6c67b2f5b90a52e43aa3441bbc67a8\n",
      "  Stored in directory: c:\\users\\administrator\\appdata\\local\\pip\\cache\\wheels\\e7\\05\\b4\\89d577f57a132db1638cc928cf085fc0a71ed6ec19cd874d2d\n",
      "Successfully built jsonpath\n",
      "Installing collected packages: jsonpath, xlrd, mini-racer, html5lib, aiosignal, aiohappyeyeballs, aiohttp, akshare\n",
      "\n",
      "   ---------- ----------------------------- 2/8 [mini-racer]\n",
      "   --------------- ------------------------ 3/8 [html5lib]\n",
      "   --------------- ------------------------ 3/8 [html5lib]\n",
      "  Attempting uninstall: aiosignal\n",
      "   --------------- ------------------------ 3/8 [html5lib]\n",
      "    Found existing installation: aiosignal 1.2.0\n",
      "   --------------- ------------------------ 3/8 [html5lib]\n",
      "    Uninstalling aiosignal-1.2.0:\n",
      "   --------------- ------------------------ 3/8 [html5lib]\n",
      "      Successfully uninstalled aiosignal-1.2.0\n",
      "   --------------- ------------------------ 3/8 [html5lib]\n",
      "  Attempting uninstall: aiohappyeyeballs\n",
      "   --------------- ------------------------ 3/8 [html5lib]\n",
      "    Found existing installation: aiohappyeyeballs 2.4.4\n",
      "   --------------- ------------------------ 3/8 [html5lib]\n",
      "    Uninstalling aiohappyeyeballs-2.4.4:\n",
      "   --------------- ------------------------ 3/8 [html5lib]\n",
      "      Successfully uninstalled aiohappyeyeballs-2.4.4\n",
      "   --------------- ------------------------ 3/8 [html5lib]\n",
      "  Attempting uninstall: aiohttp\n",
      "   --------------- ------------------------ 3/8 [html5lib]\n",
      "    Found existing installation: aiohttp 3.11.10\n",
      "   --------------- ------------------------ 3/8 [html5lib]\n",
      "    Uninstalling aiohttp-3.11.10:\n",
      "   --------------- ------------------------ 3/8 [html5lib]\n",
      "      Successfully uninstalled aiohttp-3.11.10\n",
      "   --------------- ------------------------ 3/8 [html5lib]\n",
      "   ------------------------------ --------- 6/8 [aiohttp]\n",
      "   ------------------------------ --------- 6/8 [aiohttp]\n",
      "   ------------------------------ --------- 6/8 [aiohttp]\n",
      "   ----------------------------------- ---- 7/8 [akshare]\n",
      "   ----------------------------------- ---- 7/8 [akshare]\n",
      "   ----------------------------------- ---- 7/8 [akshare]\n",
      "   ----------------------------------- ---- 7/8 [akshare]\n",
      "   ----------------------------------- ---- 7/8 [akshare]\n",
      "   ----------------------------------- ---- 7/8 [akshare]\n",
      "   ----------------------------------- ---- 7/8 [akshare]\n",
      "   ----------------------------------- ---- 7/8 [akshare]\n",
      "   ----------------------------------- ---- 7/8 [akshare]\n",
      "   ----------------------------------- ---- 7/8 [akshare]\n",
      "   ----------------------------------- ---- 7/8 [akshare]\n",
      "   ----------------------------------- ---- 7/8 [akshare]\n",
      "   ---------------------------------------- 8/8 [akshare]\n",
      "\n",
      "Successfully installed aiohappyeyeballs-2.6.1 aiohttp-3.12.15 aiosignal-1.4.0 akshare-1.17.31 html5lib-1.1 jsonpath-0.82.2 mini-racer-0.12.4 xlrd-2.0.2\n"
     ]
    },
    {
     "name": "stderr",
     "output_type": "stream",
     "text": [
      "  DEPRECATION: Building 'jsonpath' using the legacy setup.py bdist_wheel mechanism, which will be removed in a future version. pip 25.3 will enforce this behaviour change. A possible replacement is to use the standardized build interface by setting the `--use-pep517` option, (possibly combined with `--no-build-isolation`), or adding a `pyproject.toml` file to the source tree of 'jsonpath'. Discussion can be found at https://github.com/pypa/pip/issues/6334\n"
     ]
    }
   ],
   "source": [
    "!pip install akshare"
   ]
  },
  {
   "cell_type": "code",
   "execution_count": 17,
   "id": "21aedf59",
   "metadata": {},
   "outputs": [],
   "source": [
    "import pandas as pd\n",
    "import numpy as np\n",
    "import matplotlib.pyplot as plt\n",
    "import matplotlib as mpl\n",
    "mpl.rcParams['font.family'] = 'STKAITI' # 中文字体'STKAITI'\n",
    "plt.rcParams['axes.unicode_minus'] = False\n",
    "import akshare as ak\n",
    "import warnings\n",
    "warnings.filterwarnings(\"ignore\")"
   ]
  },
  {
   "cell_type": "code",
   "execution_count": null,
   "id": "c538a76a",
   "metadata": {},
   "outputs": [
    {
     "data": {
      "application/vnd.microsoft.datawrangler.viewer.v0+json": {
       "columns": [
        {
         "name": "date",
         "rawType": "datetime64[ns]",
         "type": "datetime"
        },
        {
         "name": "open",
         "rawType": "float64",
         "type": "float"
        },
        {
         "name": "high",
         "rawType": "float64",
         "type": "float"
        },
        {
         "name": "low",
         "rawType": "float64",
         "type": "float"
        },
        {
         "name": "close",
         "rawType": "float64",
         "type": "float"
        },
        {
         "name": "volume",
         "rawType": "int64",
         "type": "integer"
        }
       ],
       "ref": "aa4f524f-1862-4c49-ae13-c82f0df09e9c",
       "rows": [
        [
         "2005-01-04 00:00:00",
         "994.769",
         "994.769",
         "980.658",
         "982.794",
         "741286894"
        ],
        [
         "2005-01-05 00:00:00",
         "981.577",
         "997.323",
         "979.877",
         "992.564",
         "711910898"
        ],
        [
         "2005-01-06 00:00:00",
         "993.331",
         "993.788",
         "980.33",
         "983.174",
         "628802905"
        ],
        [
         "2005-01-07 00:00:00",
         "983.045",
         "995.711",
         "979.812",
         "983.958",
         "729869409"
        ],
        [
         "2005-01-10 00:00:00",
         "983.76",
         "993.959",
         "979.789",
         "993.879",
         "579169799"
        ],
        [
         "2005-01-11 00:00:00",
         "994.189",
         "999.554",
         "991.092",
         "997.135",
         "584907998"
        ],
        [
         "2005-01-12 00:00:00",
         "996.651",
         "996.976",
         "989.257",
         "996.748",
         "501452509"
        ],
        [
         "2005-01-13 00:00:00",
         "996.078",
         "999.473",
         "992.695",
         "996.877",
         "604406584"
        ],
        [
         "2005-01-14 00:00:00",
         "996.617",
         "1006.463",
         "987.233",
         "988.306",
         "729784238"
        ],
        [
         "2005-01-17 00:00:00",
         "979.111",
         "981.525",
         "965.078",
         "967.452",
         "728818876"
        ],
        [
         "2005-01-18 00:00:00",
         "967.374",
         "974.872",
         "960.293",
         "974.689",
         "731184782"
        ],
        [
         "2005-01-19 00:00:00",
         "974.333",
         "974.333",
         "965.258",
         "967.21",
         "633809119"
        ],
        [
         "2005-01-20 00:00:00",
         "963.213",
         "963.213",
         "952.23",
         "956.245",
         "772710670"
        ],
        [
         "2005-01-21 00:00:00",
         "954.462",
         "984.274",
         "943.439",
         "982.604",
         "1445005985"
        ],
        [
         "2005-01-24 00:00:00",
         "1001.854",
         "1001.854",
         "986.239",
         "998.133",
         "1435946161"
        ],
        [
         "2005-01-25 00:00:00",
         "995.637",
         "997.951",
         "985.237",
         "997.775",
         "986252911"
        ],
        [
         "2005-01-26 00:00:00",
         "995.78",
         "999.474",
         "988.475",
         "989.928",
         "766329017"
        ],
        [
         "2005-01-27 00:00:00",
         "987.342",
         "987.702",
         "973.771",
         "974.631",
         "694536497"
        ],
        [
         "2005-01-28 00:00:00",
         "974.631",
         "975.624",
         "965.209",
         "969.209",
         "574880738"
        ],
        [
         "2005-01-31 00:00:00",
         "965.785",
         "965.785",
         "953.142",
         "954.879",
         "678870643"
        ],
        [
         "2005-02-01 00:00:00",
         "953.33",
         "965.477",
         "952.741",
         "955.951",
         "743306676"
        ],
        [
         "2005-02-02 00:00:00",
         "956.701",
         "1006.932",
         "956.701",
         "1006.913",
         "1705733857"
        ],
        [
         "2005-02-03 00:00:00",
         "1005.563",
         "1014.187",
         "992.155",
         "993.215",
         "1697453933"
        ],
        [
         "2005-02-04 00:00:00",
         "992.25",
         "1021.025",
         "989.939",
         "1016.858",
         "1573621461"
        ],
        [
         "2005-02-16 00:00:00",
         "1023.324",
         "1033.248",
         "1018.487",
         "1023.584",
         "1213129305"
        ],
        [
         "2005-02-17 00:00:00",
         "1024.43",
         "1024.43",
         "1010.476",
         "1020.606",
         "896829766"
        ],
        [
         "2005-02-18 00:00:00",
         "1020.122",
         "1021.199",
         "1005.631",
         "1006.055",
         "813993936"
        ],
        [
         "2005-02-21 00:00:00",
         "1006.693",
         "1025.656",
         "1006.693",
         "1025.633",
         "988609416"
        ],
        [
         "2005-02-22 00:00:00",
         "1026.837",
         "1048.678",
         "1024.527",
         "1046.744",
         "1793784231"
        ],
        [
         "2005-02-23 00:00:00",
         "1046.812",
         "1049.609",
         "1036.625",
         "1043.944",
         "1869692971"
        ],
        [
         "2005-02-24 00:00:00",
         "1042.253",
         "1045.958",
         "1034.731",
         "1045.46",
         "1468178853"
        ],
        [
         "2005-02-25 00:00:00",
         "1046.274",
         "1059.483",
         "1045.982",
         "1046.761",
         "1817000338"
        ],
        [
         "2005-02-28 00:00:00",
         "1046.206",
         "1048.278",
         "1035.039",
         "1039.989",
         "1297104604"
        ],
        [
         "2005-03-01 00:00:00",
         "1039.351",
         "1042.737",
         "1031.168",
         "1035.934",
         "996209016"
        ],
        [
         "2005-03-02 00:00:00",
         "1036.368",
         "1045.76",
         "1021.004",
         "1021.32",
         "1422513553"
        ],
        [
         "2005-03-03 00:00:00",
         "1019.876",
         "1028.402",
         "1014.752",
         "1027.71",
         "920308564"
        ],
        [
         "2005-03-04 00:00:00",
         "1027.927",
         "1031.847",
         "1022.176",
         "1023.667",
         "817364167"
        ],
        [
         "2005-03-07 00:00:00",
         "1024.48",
         "1031.344",
         "1024.48",
         "1029.871",
         "793294979"
        ],
        [
         "2005-03-08 00:00:00",
         "1033.786",
         "1049.287",
         "1032.85",
         "1048.987",
         "1429579380"
        ],
        [
         "2005-03-09 00:00:00",
         "1051.26",
         "1054.64",
         "1041.982",
         "1046.544",
         "1532748839"
        ],
        [
         "2005-03-10 00:00:00",
         "1046.692",
         "1046.692",
         "1019.634",
         "1022.413",
         "1329595333"
        ],
        [
         "2005-03-11 00:00:00",
         "1021.084",
         "1028.119",
         "1016.931",
         "1027.429",
         "1147638146"
        ],
        [
         "2005-03-14 00:00:00",
         "1027.175",
         "1041.573",
         "1014.925",
         "1031.026",
         "1446608937"
        ],
        [
         "2005-03-15 00:00:00",
         "1030.857",
         "1030.943",
         "1011.641",
         "1013.523",
         "1200749274"
        ],
        [
         "2005-03-16 00:00:00",
         "1011.85",
         "1012.198",
         "995.967",
         "1003.065",
         "1062278283"
        ],
        [
         "2005-03-17 00:00:00",
         "1001.968",
         "1004.821",
         "992.124",
         "992.863",
         "996901108"
        ],
        [
         "2005-03-18 00:00:00",
         "991.887",
         "996.396",
         "975.705",
         "978.665",
         "965205964"
        ],
        [
         "2005-03-21 00:00:00",
         "977.296",
         "983.178",
         "973.001",
         "981.893",
         "725256485"
        ],
        [
         "2005-03-22 00:00:00",
         "981.707",
         "982.138",
         "959.563",
         "964.024",
         "1137571722"
        ],
        [
         "2005-03-23 00:00:00",
         "962.816",
         "975.362",
         "955.993",
         "959.01",
         "1093005354"
        ]
       ],
       "shape": {
        "columns": 5,
        "rows": 4997
       }
      },
      "text/html": [
       "<div>\n",
       "<style scoped>\n",
       "    .dataframe tbody tr th:only-of-type {\n",
       "        vertical-align: middle;\n",
       "    }\n",
       "\n",
       "    .dataframe tbody tr th {\n",
       "        vertical-align: top;\n",
       "    }\n",
       "\n",
       "    .dataframe thead th {\n",
       "        text-align: right;\n",
       "    }\n",
       "</style>\n",
       "<table border=\"1\" class=\"dataframe\">\n",
       "  <thead>\n",
       "    <tr style=\"text-align: right;\">\n",
       "      <th></th>\n",
       "      <th>open</th>\n",
       "      <th>high</th>\n",
       "      <th>low</th>\n",
       "      <th>close</th>\n",
       "      <th>volume</th>\n",
       "    </tr>\n",
       "    <tr>\n",
       "      <th>date</th>\n",
       "      <th></th>\n",
       "      <th></th>\n",
       "      <th></th>\n",
       "      <th></th>\n",
       "      <th></th>\n",
       "    </tr>\n",
       "  </thead>\n",
       "  <tbody>\n",
       "    <tr>\n",
       "      <th>2005-01-04</th>\n",
       "      <td>994.769</td>\n",
       "      <td>994.769</td>\n",
       "      <td>980.658</td>\n",
       "      <td>982.794</td>\n",
       "      <td>741286894</td>\n",
       "    </tr>\n",
       "    <tr>\n",
       "      <th>2005-01-05</th>\n",
       "      <td>981.577</td>\n",
       "      <td>997.323</td>\n",
       "      <td>979.877</td>\n",
       "      <td>992.564</td>\n",
       "      <td>711910898</td>\n",
       "    </tr>\n",
       "    <tr>\n",
       "      <th>2005-01-06</th>\n",
       "      <td>993.331</td>\n",
       "      <td>993.788</td>\n",
       "      <td>980.330</td>\n",
       "      <td>983.174</td>\n",
       "      <td>628802905</td>\n",
       "    </tr>\n",
       "    <tr>\n",
       "      <th>2005-01-07</th>\n",
       "      <td>983.045</td>\n",
       "      <td>995.711</td>\n",
       "      <td>979.812</td>\n",
       "      <td>983.958</td>\n",
       "      <td>729869409</td>\n",
       "    </tr>\n",
       "    <tr>\n",
       "      <th>2005-01-10</th>\n",
       "      <td>983.760</td>\n",
       "      <td>993.959</td>\n",
       "      <td>979.789</td>\n",
       "      <td>993.879</td>\n",
       "      <td>579169799</td>\n",
       "    </tr>\n",
       "    <tr>\n",
       "      <th>...</th>\n",
       "      <td>...</td>\n",
       "      <td>...</td>\n",
       "      <td>...</td>\n",
       "      <td>...</td>\n",
       "      <td>...</td>\n",
       "    </tr>\n",
       "    <tr>\n",
       "      <th>2025-07-24</th>\n",
       "      <td>4116.831</td>\n",
       "      <td>4152.427</td>\n",
       "      <td>4111.885</td>\n",
       "      <td>4149.037</td>\n",
       "      <td>31963239200</td>\n",
       "    </tr>\n",
       "    <tr>\n",
       "      <th>2025-07-25</th>\n",
       "      <td>4145.320</td>\n",
       "      <td>4150.499</td>\n",
       "      <td>4117.801</td>\n",
       "      <td>4127.163</td>\n",
       "      <td>27359496300</td>\n",
       "    </tr>\n",
       "    <tr>\n",
       "      <th>2025-07-28</th>\n",
       "      <td>4128.199</td>\n",
       "      <td>4146.120</td>\n",
       "      <td>4112.968</td>\n",
       "      <td>4135.824</td>\n",
       "      <td>22275981500</td>\n",
       "    </tr>\n",
       "    <tr>\n",
       "      <th>2025-07-29</th>\n",
       "      <td>4132.683</td>\n",
       "      <td>4153.331</td>\n",
       "      <td>4117.577</td>\n",
       "      <td>4152.025</td>\n",
       "      <td>23080788000</td>\n",
       "    </tr>\n",
       "    <tr>\n",
       "      <th>2025-07-30</th>\n",
       "      <td>4148.941</td>\n",
       "      <td>4185.206</td>\n",
       "      <td>4127.430</td>\n",
       "      <td>4151.238</td>\n",
       "      <td>24985304800</td>\n",
       "    </tr>\n",
       "  </tbody>\n",
       "</table>\n",
       "<p>4997 rows × 5 columns</p>\n",
       "</div>"
      ],
      "text/plain": [
       "                open      high       low     close       volume\n",
       "date                                                           \n",
       "2005-01-04   994.769   994.769   980.658   982.794    741286894\n",
       "2005-01-05   981.577   997.323   979.877   992.564    711910898\n",
       "2005-01-06   993.331   993.788   980.330   983.174    628802905\n",
       "2005-01-07   983.045   995.711   979.812   983.958    729869409\n",
       "2005-01-10   983.760   993.959   979.789   993.879    579169799\n",
       "...              ...       ...       ...       ...          ...\n",
       "2025-07-24  4116.831  4152.427  4111.885  4149.037  31963239200\n",
       "2025-07-25  4145.320  4150.499  4117.801  4127.163  27359496300\n",
       "2025-07-28  4128.199  4146.120  4112.968  4135.824  22275981500\n",
       "2025-07-29  4132.683  4153.331  4117.577  4152.025  23080788000\n",
       "2025-07-30  4148.941  4185.206  4127.430  4151.238  24985304800\n",
       "\n",
       "[4997 rows x 5 columns]"
      ]
     },
     "execution_count": 10,
     "metadata": {},
     "output_type": "execute_result"
    }
   ],
   "source": [
    "# 导入2005年到2025年8月1号的沪深300指数的数据\n",
    "stock_code = 'sh000300'\n",
    "start_date = pd.to_datetime('2005-01-01')\n",
    "end_date = pd.to_datetime('2025-08-01')\n",
    "\n",
    "price_df = ak.stock_zh_index_daily(symbol=stock_code)\n",
    "price_df['date'] = pd.to_datetime(price_df['date'])\n",
    "price_df = price_df[(price_df['date'] >= startdate) & (price_df['date'] <= enddate)]\n",
    "price_df = price_df.sort_values(by='date').set_index('date')\n",
    "price_df"
   ]
  },
  {
   "cell_type": "code",
   "execution_count": null,
   "id": "7a9bcaa8",
   "metadata": {},
   "outputs": [
    {
     "data": {
      "application/vnd.microsoft.datawrangler.viewer.v0+json": {
       "columns": [
        {
         "name": "date",
         "rawType": "datetime64[ns]",
         "type": "datetime"
        },
        {
         "name": "open",
         "rawType": "float64",
         "type": "float"
        },
        {
         "name": "high",
         "rawType": "float64",
         "type": "float"
        },
        {
         "name": "low",
         "rawType": "float64",
         "type": "float"
        },
        {
         "name": "close",
         "rawType": "float64",
         "type": "float"
        },
        {
         "name": "volume",
         "rawType": "int64",
         "type": "integer"
        },
        {
         "name": "volume_rank",
         "rawType": "float64",
         "type": "float"
        },
        {
         "name": "normalized_rank",
         "rawType": "float64",
         "type": "float"
        }
       ],
       "ref": "a33c8e43-3f1c-460e-912d-d79bcdbc41a3",
       "rows": [
        [
         "2005-01-04 00:00:00",
         "994.769",
         "994.769",
         "980.658",
         "982.794",
         "741286894",
         null,
         "0.0"
        ],
        [
         "2005-01-05 00:00:00",
         "981.577",
         "997.323",
         "979.877",
         "992.564",
         "711910898",
         null,
         "0.0"
        ],
        [
         "2005-01-06 00:00:00",
         "993.331",
         "993.788",
         "980.33",
         "983.174",
         "628802905",
         null,
         "0.0"
        ],
        [
         "2005-01-07 00:00:00",
         "983.045",
         "995.711",
         "979.812",
         "983.958",
         "729869409",
         null,
         "0.0"
        ],
        [
         "2005-01-10 00:00:00",
         "983.76",
         "993.959",
         "979.789",
         "993.879",
         "579169799",
         null,
         "0.0"
        ],
        [
         "2005-01-11 00:00:00",
         "994.189",
         "999.554",
         "991.092",
         "997.135",
         "584907998",
         null,
         "0.0"
        ],
        [
         "2005-01-12 00:00:00",
         "996.651",
         "996.976",
         "989.257",
         "996.748",
         "501452509",
         null,
         "0.0"
        ],
        [
         "2005-01-13 00:00:00",
         "996.078",
         "999.473",
         "992.695",
         "996.877",
         "604406584",
         null,
         "0.0"
        ],
        [
         "2005-01-14 00:00:00",
         "996.617",
         "1006.463",
         "987.233",
         "988.306",
         "729784238",
         null,
         "0.0"
        ],
        [
         "2005-01-17 00:00:00",
         "979.111",
         "981.525",
         "965.078",
         "967.452",
         "728818876",
         null,
         "0.0"
        ],
        [
         "2005-01-18 00:00:00",
         "967.374",
         "974.872",
         "960.293",
         "974.689",
         "731184782",
         null,
         "0.0"
        ],
        [
         "2005-01-19 00:00:00",
         "974.333",
         "974.333",
         "965.258",
         "967.21",
         "633809119",
         null,
         "0.0"
        ],
        [
         "2005-01-20 00:00:00",
         "963.213",
         "963.213",
         "952.23",
         "956.245",
         "772710670",
         null,
         "0.0"
        ],
        [
         "2005-01-21 00:00:00",
         "954.462",
         "984.274",
         "943.439",
         "982.604",
         "1445005985",
         null,
         "0.0"
        ],
        [
         "2005-01-24 00:00:00",
         "1001.854",
         "1001.854",
         "986.239",
         "998.133",
         "1435946161",
         null,
         "0.0"
        ],
        [
         "2005-01-25 00:00:00",
         "995.637",
         "997.951",
         "985.237",
         "997.775",
         "986252911",
         null,
         "0.0"
        ],
        [
         "2005-01-26 00:00:00",
         "995.78",
         "999.474",
         "988.475",
         "989.928",
         "766329017",
         null,
         "0.0"
        ],
        [
         "2005-01-27 00:00:00",
         "987.342",
         "987.702",
         "973.771",
         "974.631",
         "694536497",
         null,
         "0.0"
        ],
        [
         "2005-01-28 00:00:00",
         "974.631",
         "975.624",
         "965.209",
         "969.209",
         "574880738",
         null,
         "0.0"
        ],
        [
         "2005-01-31 00:00:00",
         "965.785",
         "965.785",
         "953.142",
         "954.879",
         "678870643",
         null,
         "0.0"
        ],
        [
         "2005-02-01 00:00:00",
         "953.33",
         "965.477",
         "952.741",
         "955.951",
         "743306676",
         null,
         "0.0"
        ],
        [
         "2005-02-02 00:00:00",
         "956.701",
         "1006.932",
         "956.701",
         "1006.913",
         "1705733857",
         null,
         "0.0"
        ],
        [
         "2005-02-03 00:00:00",
         "1005.563",
         "1014.187",
         "992.155",
         "993.215",
         "1697453933",
         null,
         "0.0"
        ],
        [
         "2005-02-04 00:00:00",
         "992.25",
         "1021.025",
         "989.939",
         "1016.858",
         "1573621461",
         null,
         "0.0"
        ],
        [
         "2005-02-16 00:00:00",
         "1023.324",
         "1033.248",
         "1018.487",
         "1023.584",
         "1213129305",
         null,
         "0.0"
        ],
        [
         "2005-02-17 00:00:00",
         "1024.43",
         "1024.43",
         "1010.476",
         "1020.606",
         "896829766",
         null,
         "0.0"
        ],
        [
         "2005-02-18 00:00:00",
         "1020.122",
         "1021.199",
         "1005.631",
         "1006.055",
         "813993936",
         null,
         "0.0"
        ],
        [
         "2005-02-21 00:00:00",
         "1006.693",
         "1025.656",
         "1006.693",
         "1025.633",
         "988609416",
         null,
         "0.0"
        ],
        [
         "2005-02-22 00:00:00",
         "1026.837",
         "1048.678",
         "1024.527",
         "1046.744",
         "1793784231",
         null,
         "0.0"
        ],
        [
         "2005-02-23 00:00:00",
         "1046.812",
         "1049.609",
         "1036.625",
         "1043.944",
         "1869692971",
         null,
         "0.0"
        ],
        [
         "2005-02-24 00:00:00",
         "1042.253",
         "1045.958",
         "1034.731",
         "1045.46",
         "1468178853",
         null,
         "0.0"
        ],
        [
         "2005-02-25 00:00:00",
         "1046.274",
         "1059.483",
         "1045.982",
         "1046.761",
         "1817000338",
         null,
         "0.0"
        ],
        [
         "2005-02-28 00:00:00",
         "1046.206",
         "1048.278",
         "1035.039",
         "1039.989",
         "1297104604",
         null,
         "0.0"
        ],
        [
         "2005-03-01 00:00:00",
         "1039.351",
         "1042.737",
         "1031.168",
         "1035.934",
         "996209016",
         null,
         "0.0"
        ],
        [
         "2005-03-02 00:00:00",
         "1036.368",
         "1045.76",
         "1021.004",
         "1021.32",
         "1422513553",
         null,
         "0.0"
        ],
        [
         "2005-03-03 00:00:00",
         "1019.876",
         "1028.402",
         "1014.752",
         "1027.71",
         "920308564",
         null,
         "0.0"
        ],
        [
         "2005-03-04 00:00:00",
         "1027.927",
         "1031.847",
         "1022.176",
         "1023.667",
         "817364167",
         null,
         "0.0"
        ],
        [
         "2005-03-07 00:00:00",
         "1024.48",
         "1031.344",
         "1024.48",
         "1029.871",
         "793294979",
         null,
         "0.0"
        ],
        [
         "2005-03-08 00:00:00",
         "1033.786",
         "1049.287",
         "1032.85",
         "1048.987",
         "1429579380",
         null,
         "0.0"
        ],
        [
         "2005-03-09 00:00:00",
         "1051.26",
         "1054.64",
         "1041.982",
         "1046.544",
         "1532748839",
         "34.0",
         "0.6923076923076923"
        ],
        [
         "2005-03-10 00:00:00",
         "1046.692",
         "1046.692",
         "1019.634",
         "1022.413",
         "1329595333",
         "28.0",
         "0.38461538461538464"
        ],
        [
         "2005-03-11 00:00:00",
         "1021.084",
         "1028.119",
         "1016.931",
         "1027.429",
         "1147638146",
         "25.0",
         "0.23076923076923078"
        ],
        [
         "2005-03-14 00:00:00",
         "1027.175",
         "1041.573",
         "1014.925",
         "1031.026",
         "1446608937",
         "32.0",
         "0.5897435897435898"
        ],
        [
         "2005-03-15 00:00:00",
         "1030.857",
         "1030.943",
         "1011.641",
         "1013.523",
         "1200749274",
         "24.0",
         "0.1794871794871795"
        ],
        [
         "2005-03-16 00:00:00",
         "1011.85",
         "1012.198",
         "995.967",
         "1003.065",
         "1062278283",
         "22.0",
         "0.07692307692307693"
        ],
        [
         "2005-03-17 00:00:00",
         "1001.968",
         "1004.821",
         "992.124",
         "992.863",
         "996901108",
         "21.0",
         "0.02564102564102564"
        ],
        [
         "2005-03-18 00:00:00",
         "991.887",
         "996.396",
         "975.705",
         "978.665",
         "965205964",
         "17.0",
         "-0.1794871794871795"
        ],
        [
         "2005-03-21 00:00:00",
         "977.296",
         "983.178",
         "973.001",
         "981.893",
         "725256485",
         "5.0",
         "-0.7948717948717948"
        ],
        [
         "2005-03-22 00:00:00",
         "981.707",
         "982.138",
         "959.563",
         "964.024",
         "1137571722",
         "22.0",
         "0.07692307692307693"
        ],
        [
         "2005-03-23 00:00:00",
         "962.816",
         "975.362",
         "955.993",
         "959.01",
         "1093005354",
         "21.0",
         "0.02564102564102564"
        ]
       ],
       "shape": {
        "columns": 7,
        "rows": 4997
       }
      },
      "text/html": [
       "<div>\n",
       "<style scoped>\n",
       "    .dataframe tbody tr th:only-of-type {\n",
       "        vertical-align: middle;\n",
       "    }\n",
       "\n",
       "    .dataframe tbody tr th {\n",
       "        vertical-align: top;\n",
       "    }\n",
       "\n",
       "    .dataframe thead th {\n",
       "        text-align: right;\n",
       "    }\n",
       "</style>\n",
       "<table border=\"1\" class=\"dataframe\">\n",
       "  <thead>\n",
       "    <tr style=\"text-align: right;\">\n",
       "      <th></th>\n",
       "      <th>open</th>\n",
       "      <th>high</th>\n",
       "      <th>low</th>\n",
       "      <th>close</th>\n",
       "      <th>volume</th>\n",
       "      <th>volume_rank</th>\n",
       "      <th>normalized_rank</th>\n",
       "    </tr>\n",
       "    <tr>\n",
       "      <th>date</th>\n",
       "      <th></th>\n",
       "      <th></th>\n",
       "      <th></th>\n",
       "      <th></th>\n",
       "      <th></th>\n",
       "      <th></th>\n",
       "      <th></th>\n",
       "    </tr>\n",
       "  </thead>\n",
       "  <tbody>\n",
       "    <tr>\n",
       "      <th>2005-01-04</th>\n",
       "      <td>994.769</td>\n",
       "      <td>994.769</td>\n",
       "      <td>980.658</td>\n",
       "      <td>982.794</td>\n",
       "      <td>741286894</td>\n",
       "      <td>NaN</td>\n",
       "      <td>0.000000</td>\n",
       "    </tr>\n",
       "    <tr>\n",
       "      <th>2005-01-05</th>\n",
       "      <td>981.577</td>\n",
       "      <td>997.323</td>\n",
       "      <td>979.877</td>\n",
       "      <td>992.564</td>\n",
       "      <td>711910898</td>\n",
       "      <td>NaN</td>\n",
       "      <td>0.000000</td>\n",
       "    </tr>\n",
       "    <tr>\n",
       "      <th>2005-01-06</th>\n",
       "      <td>993.331</td>\n",
       "      <td>993.788</td>\n",
       "      <td>980.330</td>\n",
       "      <td>983.174</td>\n",
       "      <td>628802905</td>\n",
       "      <td>NaN</td>\n",
       "      <td>0.000000</td>\n",
       "    </tr>\n",
       "    <tr>\n",
       "      <th>2005-01-07</th>\n",
       "      <td>983.045</td>\n",
       "      <td>995.711</td>\n",
       "      <td>979.812</td>\n",
       "      <td>983.958</td>\n",
       "      <td>729869409</td>\n",
       "      <td>NaN</td>\n",
       "      <td>0.000000</td>\n",
       "    </tr>\n",
       "    <tr>\n",
       "      <th>2005-01-10</th>\n",
       "      <td>983.760</td>\n",
       "      <td>993.959</td>\n",
       "      <td>979.789</td>\n",
       "      <td>993.879</td>\n",
       "      <td>579169799</td>\n",
       "      <td>NaN</td>\n",
       "      <td>0.000000</td>\n",
       "    </tr>\n",
       "    <tr>\n",
       "      <th>...</th>\n",
       "      <td>...</td>\n",
       "      <td>...</td>\n",
       "      <td>...</td>\n",
       "      <td>...</td>\n",
       "      <td>...</td>\n",
       "      <td>...</td>\n",
       "      <td>...</td>\n",
       "    </tr>\n",
       "    <tr>\n",
       "      <th>2025-07-24</th>\n",
       "      <td>4116.831</td>\n",
       "      <td>4152.427</td>\n",
       "      <td>4111.885</td>\n",
       "      <td>4149.037</td>\n",
       "      <td>31963239200</td>\n",
       "      <td>40.0</td>\n",
       "      <td>1.000000</td>\n",
       "    </tr>\n",
       "    <tr>\n",
       "      <th>2025-07-25</th>\n",
       "      <td>4145.320</td>\n",
       "      <td>4150.499</td>\n",
       "      <td>4117.801</td>\n",
       "      <td>4127.163</td>\n",
       "      <td>27359496300</td>\n",
       "      <td>38.0</td>\n",
       "      <td>0.897436</td>\n",
       "    </tr>\n",
       "    <tr>\n",
       "      <th>2025-07-28</th>\n",
       "      <td>4128.199</td>\n",
       "      <td>4146.120</td>\n",
       "      <td>4112.968</td>\n",
       "      <td>4135.824</td>\n",
       "      <td>22275981500</td>\n",
       "      <td>34.0</td>\n",
       "      <td>0.692308</td>\n",
       "    </tr>\n",
       "    <tr>\n",
       "      <th>2025-07-29</th>\n",
       "      <td>4132.683</td>\n",
       "      <td>4153.331</td>\n",
       "      <td>4117.577</td>\n",
       "      <td>4152.025</td>\n",
       "      <td>23080788000</td>\n",
       "      <td>35.0</td>\n",
       "      <td>0.743590</td>\n",
       "    </tr>\n",
       "    <tr>\n",
       "      <th>2025-07-30</th>\n",
       "      <td>4148.941</td>\n",
       "      <td>4185.206</td>\n",
       "      <td>4127.430</td>\n",
       "      <td>4151.238</td>\n",
       "      <td>24985304800</td>\n",
       "      <td>35.0</td>\n",
       "      <td>0.743590</td>\n",
       "    </tr>\n",
       "  </tbody>\n",
       "</table>\n",
       "<p>4997 rows × 7 columns</p>\n",
       "</div>"
      ],
      "text/plain": [
       "                open      high       low     close       volume  volume_rank  \\\n",
       "date                                                                           \n",
       "2005-01-04   994.769   994.769   980.658   982.794    741286894          NaN   \n",
       "2005-01-05   981.577   997.323   979.877   992.564    711910898          NaN   \n",
       "2005-01-06   993.331   993.788   980.330   983.174    628802905          NaN   \n",
       "2005-01-07   983.045   995.711   979.812   983.958    729869409          NaN   \n",
       "2005-01-10   983.760   993.959   979.789   993.879    579169799          NaN   \n",
       "...              ...       ...       ...       ...          ...          ...   \n",
       "2025-07-24  4116.831  4152.427  4111.885  4149.037  31963239200         40.0   \n",
       "2025-07-25  4145.320  4150.499  4117.801  4127.163  27359496300         38.0   \n",
       "2025-07-28  4128.199  4146.120  4112.968  4135.824  22275981500         34.0   \n",
       "2025-07-29  4132.683  4153.331  4117.577  4152.025  23080788000         35.0   \n",
       "2025-07-30  4148.941  4185.206  4127.430  4151.238  24985304800         35.0   \n",
       "\n",
       "            normalized_rank  \n",
       "date                         \n",
       "2005-01-04         0.000000  \n",
       "2005-01-05         0.000000  \n",
       "2005-01-06         0.000000  \n",
       "2005-01-07         0.000000  \n",
       "2005-01-10         0.000000  \n",
       "...                     ...  \n",
       "2025-07-24         1.000000  \n",
       "2025-07-25         0.897436  \n",
       "2025-07-28         0.692308  \n",
       "2025-07-29         0.743590  \n",
       "2025-07-30         0.743590  \n",
       "\n",
       "[4997 rows x 7 columns]"
      ]
     },
     "execution_count": 12,
     "metadata": {},
     "output_type": "execute_result"
    }
   ],
   "source": [
    "#计算成交排名，设置窗口大小\n",
    "N = 40\n",
    "price_df['volume_rank'] = price_df['volume'].rolling(window=N).apply(lambda x: x.rank().iloc[-1], raw = False)\n",
    "\n",
    "#标准化成交量排名\n",
    "price_df['normalized_rank'] = (price_df['volume_rank'] * 2 - ( N + 1)) / (N - 1)\n",
    "price_df['normalized_rank'] = price_df['normalized_rank'].fillna(0)\n",
    "price_df"
   ]
  },
  {
   "cell_type": "code",
   "execution_count": 13,
   "id": "e53e39da",
   "metadata": {},
   "outputs": [
    {
     "data": {
      "application/vnd.microsoft.datawrangler.viewer.v0+json": {
       "columns": [
        {
         "name": "date",
         "rawType": "datetime64[ns]",
         "type": "datetime"
        },
        {
         "name": "成交量时序排名",
         "rawType": "int64",
         "type": "integer"
        },
        {
         "name": "不择时",
         "rawType": "int64",
         "type": "integer"
        }
       ],
       "ref": "fa1ae3d3-a4d2-48de-9fb0-9aa2203bef2b",
       "rows": [
        [
         "2005-01-04 00:00:00",
         "0",
         "1"
        ],
        [
         "2005-01-05 00:00:00",
         "0",
         "1"
        ],
        [
         "2005-01-06 00:00:00",
         "0",
         "1"
        ],
        [
         "2005-01-07 00:00:00",
         "0",
         "1"
        ],
        [
         "2005-01-10 00:00:00",
         "0",
         "1"
        ],
        [
         "2005-01-11 00:00:00",
         "0",
         "1"
        ],
        [
         "2005-01-12 00:00:00",
         "0",
         "1"
        ],
        [
         "2005-01-13 00:00:00",
         "0",
         "1"
        ],
        [
         "2005-01-14 00:00:00",
         "0",
         "1"
        ],
        [
         "2005-01-17 00:00:00",
         "0",
         "1"
        ],
        [
         "2005-01-18 00:00:00",
         "0",
         "1"
        ],
        [
         "2005-01-19 00:00:00",
         "0",
         "1"
        ],
        [
         "2005-01-20 00:00:00",
         "0",
         "1"
        ],
        [
         "2005-01-21 00:00:00",
         "0",
         "1"
        ],
        [
         "2005-01-24 00:00:00",
         "0",
         "1"
        ],
        [
         "2005-01-25 00:00:00",
         "0",
         "1"
        ],
        [
         "2005-01-26 00:00:00",
         "0",
         "1"
        ],
        [
         "2005-01-27 00:00:00",
         "0",
         "1"
        ],
        [
         "2005-01-28 00:00:00",
         "0",
         "1"
        ],
        [
         "2005-01-31 00:00:00",
         "0",
         "1"
        ],
        [
         "2005-02-01 00:00:00",
         "0",
         "1"
        ],
        [
         "2005-02-02 00:00:00",
         "0",
         "1"
        ],
        [
         "2005-02-03 00:00:00",
         "0",
         "1"
        ],
        [
         "2005-02-04 00:00:00",
         "0",
         "1"
        ],
        [
         "2005-02-16 00:00:00",
         "0",
         "1"
        ],
        [
         "2005-02-17 00:00:00",
         "0",
         "1"
        ],
        [
         "2005-02-18 00:00:00",
         "0",
         "1"
        ],
        [
         "2005-02-21 00:00:00",
         "0",
         "1"
        ],
        [
         "2005-02-22 00:00:00",
         "0",
         "1"
        ],
        [
         "2005-02-23 00:00:00",
         "0",
         "1"
        ],
        [
         "2005-02-24 00:00:00",
         "0",
         "1"
        ],
        [
         "2005-02-25 00:00:00",
         "0",
         "1"
        ],
        [
         "2005-02-28 00:00:00",
         "0",
         "1"
        ],
        [
         "2005-03-01 00:00:00",
         "0",
         "1"
        ],
        [
         "2005-03-02 00:00:00",
         "0",
         "1"
        ],
        [
         "2005-03-03 00:00:00",
         "0",
         "1"
        ],
        [
         "2005-03-04 00:00:00",
         "0",
         "1"
        ],
        [
         "2005-03-07 00:00:00",
         "0",
         "1"
        ],
        [
         "2005-03-08 00:00:00",
         "0",
         "1"
        ],
        [
         "2005-03-09 00:00:00",
         "1",
         "1"
        ],
        [
         "2005-03-10 00:00:00",
         "0",
         "1"
        ],
        [
         "2005-03-11 00:00:00",
         "0",
         "1"
        ],
        [
         "2005-03-14 00:00:00",
         "1",
         "1"
        ],
        [
         "2005-03-15 00:00:00",
         "0",
         "1"
        ],
        [
         "2005-03-16 00:00:00",
         "0",
         "1"
        ],
        [
         "2005-03-17 00:00:00",
         "0",
         "1"
        ],
        [
         "2005-03-18 00:00:00",
         "0",
         "1"
        ],
        [
         "2005-03-21 00:00:00",
         "0",
         "1"
        ],
        [
         "2005-03-22 00:00:00",
         "0",
         "1"
        ],
        [
         "2005-03-23 00:00:00",
         "0",
         "1"
        ]
       ],
       "shape": {
        "columns": 2,
        "rows": 4997
       }
      },
      "text/html": [
       "<div>\n",
       "<style scoped>\n",
       "    .dataframe tbody tr th:only-of-type {\n",
       "        vertical-align: middle;\n",
       "    }\n",
       "\n",
       "    .dataframe tbody tr th {\n",
       "        vertical-align: top;\n",
       "    }\n",
       "\n",
       "    .dataframe thead th {\n",
       "        text-align: right;\n",
       "    }\n",
       "</style>\n",
       "<table border=\"1\" class=\"dataframe\">\n",
       "  <thead>\n",
       "    <tr style=\"text-align: right;\">\n",
       "      <th></th>\n",
       "      <th>成交量时序排名</th>\n",
       "      <th>不择时</th>\n",
       "    </tr>\n",
       "    <tr>\n",
       "      <th>date</th>\n",
       "      <th></th>\n",
       "      <th></th>\n",
       "    </tr>\n",
       "  </thead>\n",
       "  <tbody>\n",
       "    <tr>\n",
       "      <th>2005-01-04</th>\n",
       "      <td>0</td>\n",
       "      <td>1</td>\n",
       "    </tr>\n",
       "    <tr>\n",
       "      <th>2005-01-05</th>\n",
       "      <td>0</td>\n",
       "      <td>1</td>\n",
       "    </tr>\n",
       "    <tr>\n",
       "      <th>2005-01-06</th>\n",
       "      <td>0</td>\n",
       "      <td>1</td>\n",
       "    </tr>\n",
       "    <tr>\n",
       "      <th>2005-01-07</th>\n",
       "      <td>0</td>\n",
       "      <td>1</td>\n",
       "    </tr>\n",
       "    <tr>\n",
       "      <th>2005-01-10</th>\n",
       "      <td>0</td>\n",
       "      <td>1</td>\n",
       "    </tr>\n",
       "    <tr>\n",
       "      <th>...</th>\n",
       "      <td>...</td>\n",
       "      <td>...</td>\n",
       "    </tr>\n",
       "    <tr>\n",
       "      <th>2025-07-24</th>\n",
       "      <td>1</td>\n",
       "      <td>1</td>\n",
       "    </tr>\n",
       "    <tr>\n",
       "      <th>2025-07-25</th>\n",
       "      <td>1</td>\n",
       "      <td>1</td>\n",
       "    </tr>\n",
       "    <tr>\n",
       "      <th>2025-07-28</th>\n",
       "      <td>1</td>\n",
       "      <td>1</td>\n",
       "    </tr>\n",
       "    <tr>\n",
       "      <th>2025-07-29</th>\n",
       "      <td>1</td>\n",
       "      <td>1</td>\n",
       "    </tr>\n",
       "    <tr>\n",
       "      <th>2025-07-30</th>\n",
       "      <td>1</td>\n",
       "      <td>1</td>\n",
       "    </tr>\n",
       "  </tbody>\n",
       "</table>\n",
       "<p>4997 rows × 2 columns</p>\n",
       "</div>"
      ],
      "text/plain": [
       "            成交量时序排名  不择时\n",
       "date                    \n",
       "2005-01-04        0    1\n",
       "2005-01-05        0    1\n",
       "2005-01-06        0    1\n",
       "2005-01-07        0    1\n",
       "2005-01-10        0    1\n",
       "...             ...  ...\n",
       "2025-07-24        1    1\n",
       "2025-07-25        1    1\n",
       "2025-07-28        1    1\n",
       "2025-07-29        1    1\n",
       "2025-07-30        1    1\n",
       "\n",
       "[4997 rows x 2 columns]"
      ]
     },
     "execution_count": 13,
     "metadata": {},
     "output_type": "execute_result"
    }
   ],
   "source": [
    "# 成交量时序排名择时信号：成交量时序高于s开仓，低于清仓\n",
    "s = 0.5 #Threshold\n",
    "\n",
    "timing_df = pd.DataFrame()\n",
    "timing_df['成交量时序排名'] = (price_df['normalized_rank'] > s) * 1\n",
    "timing_df['不择时'] = 1\n",
    "timing_df"
   ]
  },
  {
   "cell_type": "code",
   "execution_count": 15,
   "id": "fc367d74",
   "metadata": {},
   "outputs": [
    {
     "data": {
      "application/vnd.microsoft.datawrangler.viewer.v0+json": {
       "columns": [
        {
         "name": "date",
         "rawType": "datetime64[ns]",
         "type": "datetime"
        },
        {
         "name": "成交量时序排名",
         "rawType": "float64",
         "type": "float"
        },
        {
         "name": "不择时",
         "rawType": "float64",
         "type": "float"
        }
       ],
       "ref": "70927cfd-8551-4af6-a12c-83a922d9ea25",
       "rows": [
        [
         "2005-01-04 00:00:00",
         "0.0",
         "0.009941045631129297"
        ],
        [
         "2005-01-05 00:00:00",
         "0.0",
         "0.00038665274716787046"
        ],
        [
         "2005-01-06 00:00:00",
         "0.0",
         "0.0011843784150087355"
        ],
        [
         "2005-01-07 00:00:00",
         "0.0",
         "0.011279067637775642"
        ],
        [
         "2005-01-10 00:00:00",
         "0.0",
         "0.01459207117666561"
        ],
        [
         "2005-01-11 00:00:00",
         "0.0",
         "0.014198295878892209"
        ],
        [
         "2005-01-12 00:00:00",
         "0.0",
         "0.014329554311483195"
        ],
        [
         "2005-01-13 00:00:00",
         "0.0",
         "0.005608499848391402"
        ],
        [
         "2005-01-14 00:00:00",
         "0.0",
         "-0.015610595913284064"
        ],
        [
         "2005-01-17 00:00:00",
         "0.0",
         "-0.00824689609419682"
        ],
        [
         "2005-01-18 00:00:00",
         "0.0",
         "-0.015856832662796028"
        ],
        [
         "2005-01-19 00:00:00",
         "0.0",
         "-0.027013799433044938"
        ],
        [
         "2005-01-20 00:00:00",
         "0.0",
         "-0.0001933263735838242"
        ],
        [
         "2005-01-21 00:00:00",
         "0.0",
         "0.015607543391595868"
        ],
        [
         "2005-01-24 00:00:00",
         "0.0",
         "0.01524327580347462"
        ],
        [
         "2005-01-25 00:00:00",
         "0.0",
         "0.007258896574460216"
        ],
        [
         "2005-01-26 00:00:00",
         "0.0",
         "-0.008305911513501352"
        ],
        [
         "2005-01-27 00:00:00",
         "0.0",
         "-0.01382283571124776"
        ],
        [
         "2005-01-28 00:00:00",
         "0.0",
         "-0.02840371430839017"
        ],
        [
         "2005-01-31 00:00:00",
         "0.0",
         "-0.027312946558485374"
        ],
        [
         "2005-02-01 00:00:00",
         "0.0",
         "0.024541256865630023"
        ],
        [
         "2005-02-02 00:00:00",
         "0.0",
         "0.010603442837461508"
        ],
        [
         "2005-02-03 00:00:00",
         "0.0",
         "0.034660366261902276"
        ],
        [
         "2005-02-04 00:00:00",
         "0.0",
         "0.04150411988677183"
        ],
        [
         "2005-02-16 00:00:00",
         "0.0",
         "0.03847398335765173"
        ],
        [
         "2005-02-17 00:00:00",
         "0.0",
         "0.023668235662814396"
        ],
        [
         "2005-02-18 00:00:00",
         "0.0",
         "0.04358899219978962"
        ],
        [
         "2005-02-21 00:00:00",
         "0.0",
         "0.06506958731941781"
        ],
        [
         "2005-02-22 00:00:00",
         "0.0",
         "0.062220567077128974"
        ],
        [
         "2005-02-23 00:00:00",
         "0.0",
         "0.06376310803688257"
        ],
        [
         "2005-02-24 00:00:00",
         "0.0",
         "0.0650868849423174"
        ],
        [
         "2005-02-25 00:00:00",
         "0.0",
         "0.0581963259848961"
        ],
        [
         "2005-02-28 00:00:00",
         "0.0",
         "0.05407033416972418"
        ],
        [
         "2005-03-01 00:00:00",
         "0.0",
         "0.0392004835194355"
        ],
        [
         "2005-03-02 00:00:00",
         "0.0",
         "0.04570235471523021"
        ],
        [
         "2005-03-03 00:00:00",
         "0.0",
         "0.04158857298681107"
        ],
        [
         "2005-03-04 00:00:00",
         "0.0",
         "0.04790118783793962"
        ],
        [
         "2005-03-07 00:00:00",
         "0.0",
         "0.06735185603493732"
        ],
        [
         "2005-03-08 00:00:00",
         "0.0",
         "0.06486608587354037"
        ],
        [
         "2005-03-09 00:00:00",
         "-0.023057797856564144",
         "0.04031261892115756"
        ],
        [
         "2005-03-10 00:00:00",
         "-0.023057797856564144",
         "0.04541643518377225"
        ],
        [
         "2005-03-11 00:00:00",
         "-0.023057797856564144",
         "0.0490764086878841"
        ],
        [
         "2005-03-14 00:00:00",
         "-0.03964265542961909",
         "0.031266979651890736"
        ],
        [
         "2005-03-15 00:00:00",
         "-0.03964265542961909",
         "0.02062588904694196"
        ],
        [
         "2005-03-16 00:00:00",
         "-0.03964265542961909",
         "0.010245280292716652"
        ],
        [
         "2005-03-17 00:00:00",
         "-0.03964265542961909",
         "-0.004201287350146576"
        ],
        [
         "2005-03-18 00:00:00",
         "-0.03964265542961909",
         "-0.000916774013679289"
        ],
        [
         "2005-03-21 00:00:00",
         "-0.03964265542961909",
         "-0.019098610695629015"
        ],
        [
         "2005-03-22 00:00:00",
         "-0.03964265542961909",
         "-0.02420039194378487"
        ],
        [
         "2005-03-23 00:00:00",
         "-0.03964265542961909",
         "-0.018308007578393903"
        ]
       ],
       "shape": {
        "columns": 2,
        "rows": 4997
       }
      },
      "text/html": [
       "<div>\n",
       "<style scoped>\n",
       "    .dataframe tbody tr th:only-of-type {\n",
       "        vertical-align: middle;\n",
       "    }\n",
       "\n",
       "    .dataframe tbody tr th {\n",
       "        vertical-align: top;\n",
       "    }\n",
       "\n",
       "    .dataframe thead th {\n",
       "        text-align: right;\n",
       "    }\n",
       "</style>\n",
       "<table border=\"1\" class=\"dataframe\">\n",
       "  <thead>\n",
       "    <tr style=\"text-align: right;\">\n",
       "      <th></th>\n",
       "      <th>成交量时序排名</th>\n",
       "      <th>不择时</th>\n",
       "    </tr>\n",
       "    <tr>\n",
       "      <th>date</th>\n",
       "      <th></th>\n",
       "      <th></th>\n",
       "    </tr>\n",
       "  </thead>\n",
       "  <tbody>\n",
       "    <tr>\n",
       "      <th>2005-01-04</th>\n",
       "      <td>0.000000</td>\n",
       "      <td>0.009941</td>\n",
       "    </tr>\n",
       "    <tr>\n",
       "      <th>2005-01-05</th>\n",
       "      <td>0.000000</td>\n",
       "      <td>0.000387</td>\n",
       "    </tr>\n",
       "    <tr>\n",
       "      <th>2005-01-06</th>\n",
       "      <td>0.000000</td>\n",
       "      <td>0.001184</td>\n",
       "    </tr>\n",
       "    <tr>\n",
       "      <th>2005-01-07</th>\n",
       "      <td>0.000000</td>\n",
       "      <td>0.011279</td>\n",
       "    </tr>\n",
       "    <tr>\n",
       "      <th>2005-01-10</th>\n",
       "      <td>0.000000</td>\n",
       "      <td>0.014592</td>\n",
       "    </tr>\n",
       "    <tr>\n",
       "      <th>...</th>\n",
       "      <td>...</td>\n",
       "      <td>...</td>\n",
       "    </tr>\n",
       "    <tr>\n",
       "      <th>2025-07-24</th>\n",
       "      <td>7.965657</td>\n",
       "      <td>3.199418</td>\n",
       "    </tr>\n",
       "    <tr>\n",
       "      <th>2025-07-25</th>\n",
       "      <td>7.984472</td>\n",
       "      <td>3.208231</td>\n",
       "    </tr>\n",
       "    <tr>\n",
       "      <th>2025-07-28</th>\n",
       "      <td>8.019666</td>\n",
       "      <td>3.224715</td>\n",
       "    </tr>\n",
       "    <tr>\n",
       "      <th>2025-07-29</th>\n",
       "      <td>8.017956</td>\n",
       "      <td>3.223915</td>\n",
       "    </tr>\n",
       "    <tr>\n",
       "      <th>2025-07-30</th>\n",
       "      <td>8.017956</td>\n",
       "      <td>3.223915</td>\n",
       "    </tr>\n",
       "  </tbody>\n",
       "</table>\n",
       "<p>4997 rows × 2 columns</p>\n",
       "</div>"
      ],
      "text/plain": [
       "             成交量时序排名       不择时\n",
       "date                          \n",
       "2005-01-04  0.000000  0.009941\n",
       "2005-01-05  0.000000  0.000387\n",
       "2005-01-06  0.000000  0.001184\n",
       "2005-01-07  0.000000  0.011279\n",
       "2005-01-10  0.000000  0.014592\n",
       "...              ...       ...\n",
       "2025-07-24  7.965657  3.199418\n",
       "2025-07-25  7.984472  3.208231\n",
       "2025-07-28  8.019666  3.224715\n",
       "2025-07-29  8.017956  3.223915\n",
       "2025-07-30  8.017956  3.223915\n",
       "\n",
       "[4997 rows x 2 columns]"
      ]
     },
     "execution_count": 15,
     "metadata": {},
     "output_type": "execute_result"
    }
   ],
   "source": [
    "# 计算每日收益\n",
    "price_df['daily returns'] = price_df['close'].pct_change().shift(-1).fillna(0)\n",
    "\n",
    "# 计算择时后的每日收益\n",
    "timing_ret = timing_df.mul(price_df['daily returns'], axis=0).dropna()\n",
    "# 计算累计收益\n",
    "cum_ret = ( 1 + timing_ret.fillna(0)).cumprod() - 1\n",
    "\n",
    "cum_ret"
   ]
  },
  {
   "cell_type": "code",
   "execution_count": 18,
   "id": "86e8e11f",
   "metadata": {},
   "outputs": [
    {
     "data": {
      "image/png": "[encoded data removed]",
      "text/plain": [
       "<Figure size 1200x600 with 1 Axes>"
      ]
     },
     "metadata": {},
     "output_type": "display_data"
    }
   ],
   "source": [
    "# 可视化输出cum_ret的收益曲线\n",
    "\n",
    "plt.figure(figsize=(12, 6))\n",
    "plt.plot(cum_ret.index, cum_ret['成交量时序排名'], label='成交量时序排名择时', color='blue')\n",
    "plt.plot(cum_ret.index, cum_ret['不择时'], label='不择时', color='orange')\n",
    "plt.title('成交量时序排名择时策略与不择时策略的累计收益')\n",
    "plt.xlabel('日期')\n",
    "plt.ylabel('累计收益')\n",
    "plt.legend()\n",
    "plt.grid()\n",
    "plt.show()"
   ]
  }
 ],
 "metadata": {
  "kernelspec": {
   "display_name": "base",
   "language": "python",
   "name": "python3"
  },
  "language_info": {
   "codemirror_mode": {
    "name": "ipython",
    "version": 3
   },
   "file_extension": ".py",
   "mimetype": "text/x-python",
   "name": "python",
   "nbconvert_exporter": "python",
   "pygments_lexer": "ipython3",
   "version": "3.13.5"
  }
 },
 "nbformat": 4,
 "nbformat_minor": 5
}
